{
 "cells": [
  {
   "cell_type": "code",
   "execution_count": 1,
   "id": "0c7f2970-7a4b-461b-9b9f-94a3d51a01ed",
   "metadata": {},
   "outputs": [
    {
     "name": "stderr",
     "output_type": "stream",
     "text": [
      "[NbConvertApp] Converting notebook initiator.ipynb to pdf\n",
      "[NbConvertApp] Support files will be in 20250918 SPC console_files\\\n",
      "[NbConvertApp] Making directory .\\20250918 SPC console_files\n",
      "[NbConvertApp] Writing 24618 bytes to notebook.tex\n",
      "[NbConvertApp] Building PDF\n",
      "[NbConvertApp] Running xelatex 3 times: ['xelatex', 'notebook.tex', '-quiet']\n",
      "[NbConvertApp] Running bibtex 1 time: ['bibtex', 'notebook']\n",
      "[NbConvertApp] WARNING | b had problems, most likely because there were no citations\n",
      "[NbConvertApp] PDF successfully created\n",
      "[NbConvertApp] Writing 354821 bytes to C:\\Users\\Hancheng_Wang\\Desktop\\Hancheng\\SPD\\Weekly SPC Monitor Report\\weekly SPC report\\20250918 SPC console.pdf\n"
     ]
    }
   ],
   "source": [
    "\"\"\"\n",
    "ouput a PDF\n",
    "\"\"\"\n",
    "\n",
    "import datetime\n",
    "import os\n",
    "\n",
    "# build today's date string\n",
    "today = datetime.date.today().strftime(\"%Y%m%d\")  # e.g. 20250917\n",
    "output_name = f\"{today} SPC console\"\n",
    "\n",
    "# target directory\n",
    "output_dir = r\"C:\\Users\\Hancheng_Wang\\Desktop\\Hancheng\\SPD\\Weekly SPC Monitor Report\\weekly SPC report\"\n",
    "\n",
    "# run nbconvert with custom output name and directory\n",
    "!jupyter nbconvert --to pdf \"initiator.ipynb\" --output \"{output_name}\" --output-dir \"{output_dir}\""
   ]
  },
  {
   "cell_type": "code",
   "execution_count": null,
   "id": "64142837-711a-41b9-b091-d32455108146",
   "metadata": {},
   "outputs": [],
   "source": []
  }
 ],
 "metadata": {
  "kernelspec": {
   "display_name": "Python 3 (ipykernel)",
   "language": "python",
   "name": "python3"
  },
  "language_info": {
   "codemirror_mode": {
    "name": "ipython",
    "version": 3
   },
   "file_extension": ".py",
   "mimetype": "text/x-python",
   "name": "python",
   "nbconvert_exporter": "python",
   "pygments_lexer": "ipython3",
   "version": "3.13.5"
  }
 },
 "nbformat": 4,
 "nbformat_minor": 5
}
