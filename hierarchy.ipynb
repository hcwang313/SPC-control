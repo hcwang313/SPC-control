{
 "cells": [
  {
   "cell_type": "code",
   "execution_count": null,
   "id": "c734d67b-3cc7-4072-9b2e-ac8eb9178bd4",
   "metadata": {},
   "outputs": [],
   "source": [
    "weekly_spc_monitor_report/           ← 根目录（Git 仓库根）\n",
    "│\n",
    "├── pyproject.toml                   ← 包管理 & 环境声明\n",
    "├── spc_config.yaml                  ← 全局配置（产品列表、路径等）\n",
    "│\n",
    "├── notebooks/                       ← Jupyter 笔记本目录\n",
    "│   ├── initiator.ipynb              ← 主入口 (cfg 读取 + 调 charts.run_from_config)\n",
    "│   └── exploration/                 ← 可选：数据探索、一次性分析\n",
    "│\n",
    "├── src/                             ← 主代码目录（符合 pyproject 的 \"where = ['src']\"）\n",
    "│   └── spc/                         ← 模块包（即 import spc.*）\n",
    "│       ├── __init__.py              ← 可空，用于明确包结构\n",
    "│       ├── run_week.py              ← 极薄包装入口（CLI 或定时任务用）\n",
    "│       │\n",
    "│       ├── charts.py                ← 主执行逻辑 (读取数据、绘图、输出报告)\n",
    "│       ├── metrics.py               ← Cp/Cpk, σ-level 等统计函数\n",
    "│       ├── panel.py                 ← 报告面板布局或拼图逻辑\n",
    "│       ├── memory.py                ← 历史数据缓存/记忆模块\n",
    "│       ├── utils.py                 ← 通用函数（cfg加载、路径处理、异常检测等）\n",
    "│       └── __pycache__/             ← Python 编译缓存（可忽略）\n",
    "│\n",
    "├── data/                            ← 原始或中间数据\n",
    "│   ├── weekly_input/                ← 每周的输入 Excel 文件\n",
    "│   ├── output_charts/               ← 输出 SPC 图表\n",
    "│   └── reports/                     ← 汇总 PDF 报告\n",
    "│\n",
    "└── README.md                        ← 项目说明（建议包含执行说明与例子）\n"
   ]
  }
 ],
 "metadata": {
  "kernelspec": {
   "display_name": "Python 3 (ipykernel)",
   "language": "python",
   "name": "python3"
  },
  "language_info": {
   "codemirror_mode": {
    "name": "ipython",
    "version": 3
   },
   "file_extension": ".py",
   "mimetype": "text/x-python",
   "name": "python",
   "nbconvert_exporter": "python",
   "pygments_lexer": "ipython3",
   "version": "3.13.5"
  }
 },
 "nbformat": 4,
 "nbformat_minor": 5
}
